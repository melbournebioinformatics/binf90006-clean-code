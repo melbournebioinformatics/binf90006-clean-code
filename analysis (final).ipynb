{
 "cells": [
  {
   "cell_type": "markdown",
   "id": "109686a1",
   "metadata": {},
   "source": [
    "# Penguins Analysis (FINAL??)\n",
    "\n",
    "_Not really final; some cells re-run out of order._"
   ]
  },
  {
   "cell_type": "code",
   "execution_count": null,
   "id": "2a387b98",
   "metadata": {},
   "outputs": [],
   "source": [
    "import numpy as np\n",
    "import seaborn as sns\n",
    "from sklearn.model_selection import train_test_split"
   ]
  },
  {
   "cell_type": "code",
   "execution_count": null,
   "id": "538321e8",
   "metadata": {},
   "outputs": [],
   "source": [
    "import pandas as pd\n",
    "df = pd.read_csv('penguins.csv')\n",
    "df = df[df['species'] != 'Gentoo']  # different exclusion than analysis.ipynb\n",
    "df.head()\n",
    "\n",
    "# df = df.dropna(how=\"any\")"
   ]
  },
  {
   "cell_type": "code",
   "execution_count": null,
   "id": "375d32ba",
   "metadata": {},
   "outputs": [],
   "source": [
    "import matplotlib.pyplot as plt\n",
    "sns.scatterplot(data=df, x='flipper_length_mm', y='body_mass_g', hue='species')\n",
    "plt.title('Scatter (no Gentoo)')"
   ]
  },
  {
   "cell_type": "code",
   "execution_count": null,
   "id": "8fdf9a71",
   "metadata": {},
   "outputs": [],
   "source": [
    "# Train/test without a seed; produces different results across runs\n",
    "X = df[['flipper_length_mm']]\n",
    "y = df['body_mass_g'] if 'body_mass_g' in df.columns else df['body_mass']\n",
    "X_train, X_test, y_train, y_test = train_test_split(X, y)\n",
    "from sklearn.linear_model import LinearRegression\n",
    "model = LinearRegression().fit(X_train, y_train)\n",
    "pred = model.predict(X_test)\n",
    "import pandas as pd\n",
    "pd.DataFrame({'flipper_length_mm': X_test['flipper_length_mm'], 'pred': pred}).to_csv('results.csv', index=False)\n",
    "len(pred)"
   ]
  },
  {
   "cell_type": "markdown",
   "id": "92b058b9",
   "metadata": {},
   "source": [
    "## Notes\n",
    "- Uses different filtering than the other notebook.\n",
    "- Overwrites `results.csv` with another schema.\n",
    "- Imports are out of order by design."
   ]
  },
  {
   "cell_type": "markdown",
   "id": "b6ee66db",
   "metadata": {},
   "source": []
  }
 ],
 "metadata": {
  "kernelspec": {
   "display_name": "data",
   "language": "python",
   "name": "python3"
  },
  "language_info": {
   "codemirror_mode": {
    "name": "ipython",
    "version": 3
   },
   "file_extension": ".py",
   "mimetype": "text/x-python",
   "name": "python",
   "nbconvert_exporter": "python",
   "pygments_lexer": "ipython3",
   "version": "3.13.3"
  }
 },
 "nbformat": 4,
 "nbformat_minor": 5
}
